{
 "cells": [
  {
   "cell_type": "markdown",
   "metadata": {
    "id": "1TzFu3O4iGgH"
   },
   "source": [
    "##Section: More comprehensive and useful examples\n",
    "A more useful script to read a data file.\n",
    "The format is a csv file."
   ]
  },
  {
   "cell_type": "code",
   "execution_count": 4,
   "metadata": {
    "colab": {
     "base_uri": "https://localhost:8080/"
    },
    "executionInfo": {
     "elapsed": 129,
     "status": "ok",
     "timestamp": 1724679287807,
     "user": {
      "displayName": "NDP Group",
      "userId": "06734609253002248430"
     },
     "user_tz": 300
    },
    "id": "cWosoOuPmoiG",
    "outputId": "3249eb93-b2f9-4b57-8d71-54edb7dcfd64"
   },
   "outputs": [
    {
     "name": "stdout",
     "output_type": "stream",
     "text": [
      "['123', '1/12/23', 'ladderwalk', '10', '8']\n",
      "['123']\n",
      "[10.0]\n",
      "[8.0]\n",
      "\n",
      "['456', '2/12/23', 'ladderwalk', '11', '3']\n",
      "['123', '456']\n",
      "[10.0, 11.0]\n",
      "[8.0, 3.0]\n",
      "\n",
      "['789', '3/12/23', 'ladderwalk', '12', '7']\n",
      "['123', '456', '789']\n",
      "[10.0, 11.0, 12.0]\n",
      "[8.0, 3.0, 7.0]\n",
      "\n"
     ]
    }
   ],
   "source": [
    "import csv  #to load a module that helps with loading csv files\n",
    "\n",
    "\n",
    "datafilename = '4-1_FakeAnimalData.csv'\n",
    "\n",
    "# one way of doing this is to just append the data to different lists\n",
    "ratID = []\n",
    "Ntriallist = []\n",
    "Nsuccesslist = []\n",
    "with open(datafilename, newline='') as csvfile:\n",
    "    filereader = csv.reader(csvfile, delimiter=',', quotechar='|')\n",
    "    #we can skip the header row\n",
    "    next(filereader, None)\n",
    "\n",
    "    #now loop through the rest of the file and print the data\n",
    "    for row in filereader:\n",
    "        print(row)\n",
    "        #join.row connects all of the data together for formatting\n",
    "        ratID.append(row[0])\n",
    "        Ntriallist.append(float(row[3])) #If we know these are numerical values, convert them to a float\n",
    "        Nsuccesslist.append(float(row[4]))\n",
    "        print(ratID)\n",
    "        print(Ntriallist)\n",
    "        print(Nsuccesslist)\n",
    "        print()\n",
    "\n",
    "\n"
   ]
  },
  {
   "cell_type": "code",
   "execution_count": 5,
   "metadata": {
    "colab": {
     "base_uri": "https://localhost:8080/"
    },
    "executionInfo": {
     "elapsed": 125,
     "status": "ok",
     "timestamp": 1724679307071,
     "user": {
      "displayName": "NDP Group",
      "userId": "06734609253002248430"
     },
     "user_tz": 300
    },
    "id": "RRQxnzl25FJC",
    "outputId": "5ebc5331-dc2b-4d16-f798-351a17110253"
   },
   "outputs": [
    {
     "name": "stdout",
     "output_type": "stream",
     "text": [
      "Final calculations on list\n",
      "[80.0, 27.27272727272727, 58.333333333333336]\n",
      "Mean success rate is  55.2020202020202\n"
     ]
    }
   ],
   "source": [
    "#Now let's do some calculations from the data\n",
    "SuccessRate = []\n",
    "print('Final calculations on list')\n",
    "for s in range(0,len(ratID)):\n",
    "  SuccessRate.append(Nsuccesslist[s] / Ntriallist[s] * 100)\n",
    "\n",
    "print(SuccessRate)\n",
    "MeanSuccessRate = sum(SuccessRate) / len(SuccessRate)\n",
    "print('Mean success rate is ',MeanSuccessRate)"
   ]
  },
  {
   "cell_type": "code",
   "execution_count": 8,
   "metadata": {
    "colab": {
     "base_uri": "https://localhost:8080/"
    },
    "executionInfo": {
     "elapsed": 1578,
     "status": "ok",
     "timestamp": 1724697714894,
     "user": {
      "displayName": "NDP Group",
      "userId": "06734609253002248430"
     },
     "user_tz": 300
    },
    "id": "IHM3hrg0qnED",
    "outputId": "5770c811-4570-49f0-e1c8-8a8164d49643"
   },
   "outputs": [
    {
     "name": "stdout",
     "output_type": "stream",
     "text": [
      "   Rat     date        test  Ntrials  Nsuccessful\n",
      "0  123  1/12/23  ladderwalk       10            8\n",
      "1  456  2/12/23  ladderwalk       11            3\n",
      "2  789  3/12/23  ladderwalk       12            7\n",
      "\n",
      "   Rat       date        test  Ntrials  Nsuccessful\n",
      "0  123 2023-01-12  ladderwalk       10            8\n",
      "1  456 2023-02-12  ladderwalk       11            3\n",
      "2  789 2023-03-12  ladderwalk       12            7\n"
     ]
    }
   ],
   "source": [
    "# Read excel spreadsheets using panadas dataframes. Easier and more functionality.\n",
    "import pandas as pd\n",
    "\n",
    "\n",
    "datafilename = '4-1_FakeAnimalData.csv'\n",
    "data = pd.read_csv(datafilename, delimiter=',')\n",
    "print(data)\n",
    "\n",
    "print()\n",
    "\n",
    "\n",
    "# or we can use excel data directly with pandas\n",
    "datafilename = '4-1_FakeAnimalData.xlsx'\n",
    "\n",
    "data = pd.read_excel(datafilename)\n",
    "print (data)\n",
    "\n"
   ]
  },
  {
   "cell_type": "markdown",
   "metadata": {
    "id": "veLIe5a9VKrv"
   },
   "source": [
    "For many functions, you can include additional arguments to change the behavior from default settings.\n",
    "More about functions and how to use them for this example.\n",
    "https://pandas.pydata.org/docs/reference/api/pandas.read_excel.html\n"
   ]
  },
  {
   "cell_type": "code",
   "execution_count": 10,
   "metadata": {
    "colab": {
     "base_uri": "https://localhost:8080/"
    },
    "executionInfo": {
     "elapsed": 196,
     "status": "ok",
     "timestamp": 1724697850058,
     "user": {
      "displayName": "NDP Group",
      "userId": "06734609253002248430"
     },
     "user_tz": 300
    },
    "id": "0t0BtDDesaA6",
    "outputId": "7534529b-7495-498f-cc27-6daffde978cc"
   },
   "outputs": [
    {
     "name": "stdout",
     "output_type": "stream",
     "text": [
      "   Rat       date        test  Ntrials  Nsuccessful  SuccessRate\n",
      "0  123 2023-01-12  ladderwalk       10            8    80.000000\n",
      "1  456 2023-02-12  ladderwalk       11            3    27.272727\n",
      "2  789 2023-03-12  ladderwalk       12            7    58.333333\n",
      "Mean success rate is  55.2020202020202\n"
     ]
    }
   ],
   "source": [
    "\n",
    "# use dataframes to be more efficient in calculations\n",
    "# add another column calculated from the other data\n",
    "data[\"SuccessRate\"] = data[\"Nsuccessful\"] / data[\"Ntrials\"] * 100\n",
    "print(data)\n",
    "\n",
    "MeanSuccessRate = data[\"SuccessRate\"].mean()\n",
    "print('Mean success rate is ',MeanSuccessRate)\n",
    "\n"
   ]
  },
  {
   "cell_type": "markdown",
   "metadata": {
    "id": "m4o-dHkPhN_F"
   },
   "source": [
    "Note about lists and dataframes:\n",
    "\n",
    "Lists are very often used in python and sometimes functions only accept lists.  They are very helpful for looping though things, for example a list of filenames.\n",
    "\n",
    "Dataframes are very useful if your data is well-formatted, ie, if you typically use spreadsheets.\n",
    "Both are important to learn."
   ]
  },
  {
   "cell_type": "code",
   "execution_count": null,
   "metadata": {
    "colab": {
     "base_uri": "https://localhost:8080/"
    },
    "executionInfo": {
     "elapsed": 228,
     "status": "ok",
     "timestamp": 1724679438398,
     "user": {
      "displayName": "NDP Group",
      "userId": "06734609253002248430"
     },
     "user_tz": 300
    },
    "id": "KXS8TKpxeG7J",
    "outputId": "759566ce-ecad-4cf7-ea97-25423093ac1d"
   },
   "outputs": [],
   "source": [
    "#Using functions.  You can define a function to do things that you do repeatedly.\n",
    "# it is not essential, but makes for cleaner and more reusable code.\n",
    "\n",
    "def calcSuccessAndAverage(datafile, sheet):\n",
    "  # note that datafile and sheetname are different variables than datafilename and sheetname.\n",
    "  # they only exist within this function. They have 'scope' only here.\n",
    "  data = pd.read_excel(datafile, sheet_name=sheet)\n",
    "  data[\"SuccessRate\"] = data[\"Nsuccessful\"] / data[\"Ntrials\"] * 100\n",
    "  MeanSuccessRate = data[\"SuccessRate\"].mean()\n",
    "  return MeanSuccessRate\n",
    "\n",
    "\n",
    "datafilename = '4-1_FakeAnimalData.xlsx'\n",
    "\n",
    "sheetname = \"ladderwalk\"\n",
    "meanval = calcSuccessAndAverage(datafilename, sheetname)\n",
    "print('Mean success rate of', sheetname, 'is' ,meanval)\n",
    "\n",
    "sheetname = \"ladderwalk2\"\n",
    "meanval = calcSuccessAndAverage(datafilename, sheetname)\n",
    "print('Mean success rate of', sheetname, 'is' ,meanval)"
   ]
  },
  {
   "cell_type": "markdown",
   "metadata": {
    "id": "DkjmukYAck_A"
   },
   "source": [
    "## Here is some real data from the behavioral core:"
   ]
  },
  {
   "cell_type": "code",
   "execution_count": 14,
   "metadata": {
    "colab": {
     "base_uri": "https://localhost:8080/"
    },
    "executionInfo": {
     "elapsed": 719,
     "status": "ok",
     "timestamp": 1724699125898,
     "user": {
      "displayName": "NDP Group",
      "userId": "06734609253002248430"
     },
     "user_tz": 300
    },
    "id": "ksZrV045cked",
    "outputId": "d229df0a-8860-419c-96af-261b6bc3f6ea"
   },
   "outputs": [
    {
     "name": "stdout",
     "output_type": "stream",
     "text": [
      "       Sex   Animal Treatment         DOB Drug Creation Date Date Tested   \\\n",
      "0   Female       87      WT-A    9.4.2021     12.14.2021 CJH   12.14.2021   \n",
      "1   Female  BQ472 2      WT-A   9.14.2021     12.14.2021 CJH   12.14.2021   \n",
      "2   Female  BQ472 5      WT-A   9.14.2021     12.14.2021 CJH   12.14.2021   \n",
      "3   Female  BF482 3      WT-A   9.15.2021     12.14.2021 CJH   12.14.2021   \n",
      "4   Female      CGN      WT-A   10.2.2021        1.3.2022 AD     1.4.2022   \n",
      "5   Female      CGN      WT-A   10.2.2021        1.3.2022 AD     1.4.2022   \n",
      "6   Female      140      WT-A   10.4.2021        1.3.2022 AD     1.4.2022   \n",
      "7   Female      156      WT-A  10.11.2021        1.3.2022 AD     1.4.2022   \n",
      "8   Female      111      WT-A   9.21.2021        1.3.2022 AD     1.5.2021   \n",
      "9   Female  BY435 1      WT-A  10.13.2021        1.3.2022 AD     1.5.2021   \n",
      "10  Female       88      WT-B    9.4.2021     12.14.2021 CJH   12.14.2021   \n",
      "11  Female  BQ472 3      WT-B   9.14.2021     12.14.2021 CJH   12.14.2021   \n",
      "12  Female  BF482 1      WT-B   9.15.2021     12.14.2021 CJH   12.14.2021   \n",
      "13  Female  BF482 4      WT-B   9.15.2021     12.14.2021 CJH   12.14.2021   \n",
      "14  Female      CGN      WT-B   10.2.2021        1.3.2022 AD     1.4.2022   \n",
      "15  Female      138      WT-B   10.4.2021        1.3.2022 AD     1.4.2022   \n",
      "16  Female      154      WT-B  10.11.2021        1.3.2022 AD     1.4.2022   \n",
      "17  Female      178      WT-B  10.13.2021        1.3.2022 AD     1.4.2022   \n",
      "18  Female  BY435 2      WT-B  10.13.2021        1.5.2022 AD     1.5.2021   \n",
      "19  Female  BY435 3      WT-B  10.13.2021        1.5.2022 AD     1.5.2021   \n",
      "20  Female  BQ472 1      WT-C   9.14.2021     12.14.2021 CJH   12.14.2021   \n",
      "21  Female  BQ472 4      WT-C   9.14.2021     12.14.2021 CJH   12.14.2021   \n",
      "22  Female  BF482 5      WT-C   9.15.2021     12.14.2021 CJH   12.14.2021   \n",
      "23  Female  BF482 2      WT-C   9.15.2021     12.14.2021 CJH   12.14.2021   \n",
      "24  Female      CGN      WT-C   10.2.2021        1.3.2022 AD     1.4.2022   \n",
      "25  Female      139      WT-C   10.4.2021        1.3.2022 AD     1.4.2022   \n",
      "26  Female      155      WT-C  10.11.2021        1.3.2022 AD     1.4.2022   \n",
      "27  Female      179      WT-C  10.13.2021        1.3.2022 AD     1.4.2022   \n",
      "28  Female      112      WT-C   9.21.2021        1.3.2022 AD     1.5.2021   \n",
      "29  Female      113      WT-C   9.21.2021        1.3.2022 AD     1.5.2021   \n",
      "30    Male    AV436      WT-A    7.9.2021                NaN    10.5.2021   \n",
      "31    Male    AV436      WT-A    7.9.2021                NaN    10.5.2021   \n",
      "32    Male    AS423      WT-A    7.9.2021                NaN    10.5.2021   \n",
      "33    Male     WT-1      WT-A   7.12.2021                NaN    10.7.2021   \n",
      "34    Male     WT-1      WT-A   7.12.2021                NaN    10.7.2021   \n",
      "35    Male    AO418      WT-A   7.18.2021                NaN    10.7.2021   \n",
      "36    Male  BF434 3      WT-A    9.1.2021      12.9.2021 CJH    12.9.2021   \n",
      "37    Male    BO440      WT-A    9.6.2021      12.9.2021 CJH    12.9.2021   \n",
      "38    Male  AV436 3      WT-A    9.1.2021      12.9.2021 CJH   12.10.2021   \n",
      "39    Male       75      WT-A    9.1.2021      12.9.2021 CJH   12.10.2021   \n",
      "40    Male    AV436      WT-B    7.9.2021                NaN    10.5.2021   \n",
      "41    Male    AS423      WT-B    7.9.2021                NaN    10.5.2021   \n",
      "42    Male    AS423      WT-B    7.9.2021                NaN    10.5.2021   \n",
      "43    Male     WT-1      WT-B   7.12.2021                NaN    10.7.2021   \n",
      "44    Male    AO418      WT-B   7.18.2021                NaN    10.7.2021   \n",
      "45    Male  BF434 1      WT-B    9.1.2021      12.9.2021 CJH    12.9.2021   \n",
      "46    Male  BF434 4      WT-B    9.1.2021      12.9.2021 CJH    12.9.2021   \n",
      "47    Male  AV436 1      WT-B    9.1.2021      12.9.2021 CJH   12.10.2021   \n",
      "48    Male  AV436 4      WT-B    9.1.2021      12.9.2021 CJH   12.10.2021   \n",
      "49    Male       76      WT-B    9.1.2021      12.9.2021 CJH   12.10.2021   \n",
      "50    Male    AV436      WT-C    7.9.2021                NaN    10.5.2021   \n",
      "51    Male    AS423      WT-C    7.9.2021                NaN    10.5.2021   \n",
      "52    Male     WT-1      WT-C   7.12.2021                NaN    10.7.2021   \n",
      "53    Male    AO418      WT-C   7.18.2021                NaN    10.7.2021   \n",
      "54    Male     WT-1      WT-C   7.12.2021                NaN    10.7.2021   \n",
      "55    Male  BF434 2      WT-C    9.1.2021      12.9.2021 CJH    12.9.2021   \n",
      "56    Male    BO440      WT-C    9.6.2021      12.9.2021 CJH    12.9.2021   \n",
      "57    Male  AV436 2      WT-C    9.1.2021      12.9.2021 CJH   12.10.2021   \n",
      "58    Male  AV436 5      WT-C    9.1.2021      12.9.2021 CJH   12.10.2021   \n",
      "59    Male       77      WT-C    9.1.2021      12.9.2021 CJH   12.10.2021   \n",
      "\n",
      "   Segment of test  Distance  Mean speed  Time freezing  ...  \\\n",
      "0    0 - 900 secs.    49.813       0.055           93.2  ...   \n",
      "1    0 - 900 secs.    29.624       0.033          311.1  ...   \n",
      "2    0 - 900 secs.    58.209       0.065           63.3  ...   \n",
      "3    0 - 900 secs.    24.633       0.027           92.5  ...   \n",
      "4    0 - 900 secs.    24.503       0.027          126.2  ...   \n",
      "5    0 - 900 secs.    13.512       0.015          548.2  ...   \n",
      "6    0 - 900 secs.    16.761       0.019          348.5  ...   \n",
      "7    0 - 900 secs.    26.543       0.029          178.4  ...   \n",
      "8    0 - 900 secs.    36.589       0.041          143.8  ...   \n",
      "9    0 - 900 secs.    35.432       0.039          204.8  ...   \n",
      "10   0 - 900 secs.    43.552       0.048           72.8  ...   \n",
      "11   0 - 900 secs.    42.921       0.048          165.6  ...   \n",
      "12   0 - 900 secs.    38.593       0.043          200.2  ...   \n",
      "13   0 - 900 secs.    33.971       0.038           77.0  ...   \n",
      "14   0 - 900 secs.    29.014       0.032          204.3  ...   \n",
      "15   0 - 900 secs.    40.001       0.044           79.0  ...   \n",
      "16   0 - 900 secs.    29.046       0.032          248.5  ...   \n",
      "17   0 - 900 secs.    24.183       0.027          172.0  ...   \n",
      "18   0 - 900 secs.   127.017       0.141           35.5  ...   \n",
      "19   0 - 900 secs.    58.848       0.065           19.9  ...   \n",
      "20   0 - 900 secs.    49.713       0.055          114.0  ...   \n",
      "21   0 - 900 secs.    51.792       0.058           75.7  ...   \n",
      "22   0 - 900 secs.    38.130       0.042          139.0  ...   \n",
      "23   0 - 900 secs.    28.697       0.032           39.4  ...   \n",
      "24   0 - 900 secs.    24.634       0.027          289.2  ...   \n",
      "25   0 - 900 secs.    32.776       0.036           86.3  ...   \n",
      "26   0 - 900 secs.    35.114       0.039          110.6  ...   \n",
      "27   0 - 900 secs.    43.285       0.048           91.1  ...   \n",
      "28   0 - 900 secs.    38.734       0.043           98.4  ...   \n",
      "29   0 - 900 secs.    48.849       0.054          104.0  ...   \n",
      "30   0 - 900 secs.    36.337       0.040           52.8  ...   \n",
      "31   0 - 900 secs.    26.370       0.029          121.9  ...   \n",
      "32   0 - 900 secs.    47.927       0.053           71.8  ...   \n",
      "33   0 - 900 secs.    42.158       0.047           68.9  ...   \n",
      "34   0 - 900 secs.    33.675       0.037           75.1  ...   \n",
      "35   0 - 900 secs.    34.710       0.039           59.3  ...   \n",
      "36   0 - 900 secs.    63.826       0.071           23.6  ...   \n",
      "37   0 - 900 secs.    44.627       0.050           79.2  ...   \n",
      "38   0 - 900 secs.    35.483       0.039          175.8  ...   \n",
      "39   0 - 900 secs.    24.065       0.027          313.2  ...   \n",
      "40   0 - 900 secs.    23.641       0.026          208.3  ...   \n",
      "41   0 - 900 secs.    41.183       0.046           76.0  ...   \n",
      "42   0 - 900 secs.    58.582       0.065           53.4  ...   \n",
      "43   0 - 900 secs.    48.294       0.054           87.0  ...   \n",
      "44   0 - 900 secs.    50.571       0.056           27.8  ...   \n",
      "45   0 - 900 secs.    48.311       0.054           34.7  ...   \n",
      "46   0 - 900 secs.    34.419       0.038          179.0  ...   \n",
      "47   0 - 900 secs.    56.693       0.063           41.8  ...   \n",
      "48   0 - 900 secs.    42.616       0.047           81.7  ...   \n",
      "49   0 - 900 secs.    20.127       0.022          270.2  ...   \n",
      "50   0 - 900 secs.    27.146       0.030          157.5  ...   \n",
      "51   0 - 900 secs.    36.013       0.040           52.3  ...   \n",
      "52   0 - 900 secs.    48.401       0.054           76.8  ...   \n",
      "53   0 - 900 secs.    62.296       0.069           53.1  ...   \n",
      "54   0 - 900 secs.    22.541       0.025           54.1  ...   \n",
      "55   0 - 900 secs.    59.955       0.067           19.6  ...   \n",
      "56   0 - 900 secs.    19.136       0.021          233.2  ...   \n",
      "57   0 - 900 secs.    43.203       0.048           84.7  ...   \n",
      "58   0 - 900 secs.    25.576       0.028          126.2  ...   \n",
      "59   0 - 900 secs.    24.414       0.027          198.6  ...   \n",
      "\n",
      "    Outer Zone : average speed  Outer Zone : max visit  \\\n",
      "0                        0.047                    11.1   \n",
      "1                        0.029                    80.0   \n",
      "2                        0.046                    11.1   \n",
      "3                        0.030                     8.4   \n",
      "4                        0.022                    93.3   \n",
      "5                        0.009                   148.3   \n",
      "6                        0.009                    92.4   \n",
      "7                        0.020                    86.6   \n",
      "8                        0.028                   145.6   \n",
      "9                        0.028                    67.0   \n",
      "10                       0.039                    19.0   \n",
      "11                       0.045                    34.0   \n",
      "12                       0.043                    23.4   \n",
      "13                       0.043                     9.3   \n",
      "14                       0.017                    77.6   \n",
      "15                       0.029                    19.8   \n",
      "16                       0.028                    88.7   \n",
      "17                       0.021                    18.2   \n",
      "18                       0.122                    11.1   \n",
      "19                       0.038                    11.1   \n",
      "20                       0.057                    14.1   \n",
      "21                       0.051                     7.6   \n",
      "22                       0.034                    56.8   \n",
      "23                       0.044                    13.8   \n",
      "24                       0.029                    31.4   \n",
      "25                       0.028                    14.3   \n",
      "26                       0.026                    31.4   \n",
      "27                       0.054                    11.1   \n",
      "28                       0.036                    33.8   \n",
      "29                       0.041                    18.9   \n",
      "30                       0.039                    15.1   \n",
      "31                       0.033                    35.2   \n",
      "32                       0.051                    15.7   \n",
      "33                       0.041                    15.1   \n",
      "34                       0.028                    30.4   \n",
      "35                       0.031                    36.7   \n",
      "36                       0.060                     9.1   \n",
      "37                       0.050                    12.2   \n",
      "38                       0.036                    69.4   \n",
      "39                       0.026                    80.2   \n",
      "40                       0.025                    34.2   \n",
      "41                       0.039                     8.9   \n",
      "42                       0.052                     8.1   \n",
      "43                       0.051                    16.5   \n",
      "44                       0.046                    11.7   \n",
      "45                       0.048                    17.0   \n",
      "46                       0.031                    94.0   \n",
      "47                       0.059                    13.2   \n",
      "48                       0.040                    12.3   \n",
      "49                       0.015                   163.2   \n",
      "50                       0.039                    22.5   \n",
      "51                       0.034                    18.7   \n",
      "52                       0.051                    14.0   \n",
      "53                       0.052                    27.1   \n",
      "54                       0.023                    32.6   \n",
      "55                       0.046                    12.2   \n",
      "56                       0.015                   146.3   \n",
      "57                       0.041                     9.1   \n",
      "58                       0.017                   148.2   \n",
      "59                       0.020                   128.3   \n",
      "\n",
      "    Outer Zone : mean visit  Outer Zone : time immobile  \\\n",
      "0                       1.2                        26.3   \n",
      "1                       2.8                       218.9   \n",
      "2                       1.8                        67.7   \n",
      "3                       1.1                        45.4   \n",
      "4                       2.6                       239.4   \n",
      "5                       5.8                       486.6   \n",
      "6                       3.8                       397.3   \n",
      "7                       2.6                       240.7   \n",
      "8                       4.0                       387.6   \n",
      "9                       3.9                       337.0   \n",
      "10                      2.0                       132.3   \n",
      "11                      1.7                        76.3   \n",
      "12                      1.9                       103.4   \n",
      "13                      1.3                        34.6   \n",
      "14                      3.7                       302.7   \n",
      "15                      1.5                       122.5   \n",
      "16                      3.4                       238.4   \n",
      "17                      1.0                        65.6   \n",
      "18                      1.2                        14.6   \n",
      "19                      1.2                        29.9   \n",
      "20                      2.2                        62.2   \n",
      "21                      1.4                        46.3   \n",
      "22                      2.1                       140.3   \n",
      "23                      1.3                        37.1   \n",
      "24                      1.5                        66.9   \n",
      "25                      1.5                        96.9   \n",
      "26                      2.3                       203.2   \n",
      "27                      1.2                        30.8   \n",
      "28                      1.8                        93.3   \n",
      "29                      2.2                       102.0   \n",
      "30                      2.7                       117.5   \n",
      "31                      2.8                       157.6   \n",
      "32                      2.0                        42.8   \n",
      "33                      1.7                        64.2   \n",
      "34                      2.2                       156.0   \n",
      "35                      1.8                       159.7   \n",
      "36                      1.2                        45.6   \n",
      "37                      1.1                        32.4   \n",
      "38                      4.3                       292.1   \n",
      "39                      4.7                       299.8   \n",
      "40                      3.1                       224.1   \n",
      "41                      1.5                        26.1   \n",
      "42                      1.5                        50.6   \n",
      "43                      2.5                        90.0   \n",
      "44                      1.9                        62.0   \n",
      "45                      2.1                       101.8   \n",
      "46                      3.7                       283.7   \n",
      "47                      1.5                        19.5   \n",
      "48                      1.3                        66.9   \n",
      "49                      4.2                       425.6   \n",
      "50                      2.8                        90.2   \n",
      "51                      1.9                        87.0   \n",
      "52                      2.1                        78.4   \n",
      "53                      2.9                        95.7   \n",
      "54                      2.8                       147.3   \n",
      "55                      1.3                        55.2   \n",
      "56                      7.2                       442.8   \n",
      "57                      1.2                        26.0   \n",
      "58                      3.1                       246.3   \n",
      "59                      4.1                       352.0   \n",
      "\n",
      "    Outer Zone : time freezing  % Time Mobile   % Time in Inner(Center) Zone  \\\n",
      "0                          8.4       72.888889                     79.811111   \n",
      "1                        162.7       52.255556                     52.488889   \n",
      "2                         19.5       80.022222                     60.188889   \n",
      "3                          5.7       48.044444                     80.133333   \n",
      "4                         71.3       56.066667                     47.444444   \n",
      "5                        398.3       24.711111                     35.711111   \n",
      "6                        262.1       32.700000                     46.744444   \n",
      "7                         90.7       48.977778                     58.244444   \n",
      "8                        132.9       49.833333                     28.966667   \n",
      "9                        164.8       52.344444                     32.911111   \n",
      "10                        32.1       73.211111                     52.900000   \n",
      "11                        22.2       60.877778                     66.955556   \n",
      "12                        53.9       59.944444                     70.955556   \n",
      "13                         7.0       60.055556                     76.166667   \n",
      "14                       154.7       54.266667                     46.611111   \n",
      "15                        45.8       68.000000                     64.977778   \n",
      "16                       120.1       45.100000                     50.650072   \n",
      "17                        35.2       51.177778                     84.922222   \n",
      "18                         1.3       89.888889                     71.755556   \n",
      "19                         4.2       91.122222                     65.688889   \n",
      "20                        15.4       72.111111                     60.266667   \n",
      "21                         8.5       75.911111                     65.433333   \n",
      "22                        66.9       65.711111                     56.166667   \n",
      "23                         1.6       56.344444                     79.211111   \n",
      "24                        25.9       44.066667                     82.200000   \n",
      "25                        23.6       66.322222                     64.311111   \n",
      "26                        58.2       60.511111                     53.355556   \n",
      "27                         8.8       69.044444                     76.566667   \n",
      "28                        27.4       64.222222                     67.044444   \n",
      "29                        37.9       73.422222                     59.633333   \n",
      "30                        16.8       69.211111                     56.322222   \n",
      "31                        32.4       49.144444                     59.277778   \n",
      "32                         8.9       72.866667                     69.666667   \n",
      "33                         9.5       69.211111                     69.644444   \n",
      "34                        21.2       62.966667                     56.022222   \n",
      "35                        21.2       62.477778                     54.288889   \n",
      "36                         5.2       82.988889                     65.933333   \n",
      "37                         1.2       67.200000                     74.544444   \n",
      "38                       142.9       57.111111                     31.144444   \n",
      "39                       181.0       42.133333                     40.777778   \n",
      "40                        87.9       41.811111                     56.366667   \n",
      "41                         0.4       69.544444                     76.288889   \n",
      "42                         9.2       80.944444                     65.100000   \n",
      "43                        11.2       70.277778                     48.111111   \n",
      "44                         6.6       80.555556                     61.277778   \n",
      "45                         6.2       75.711111                     50.155556   \n",
      "46                       141.9       57.788889                     36.177778   \n",
      "47                         0.0       74.077778                     67.744444   \n",
      "48                        19.4       72.633333                     70.022222   \n",
      "49                       222.0       36.633333                     33.577778   \n",
      "50                        17.2       49.333333                     71.000000   \n",
      "51                        14.7       71.577778                     59.911111   \n",
      "52                        14.1       70.611111                     62.144444   \n",
      "53                        29.7       82.966667                     44.944444   \n",
      "54                        18.1       53.177778                     59.344444   \n",
      "55                         3.5       81.100000                     63.588889   \n",
      "56                       209.5       40.055556                     28.166667   \n",
      "57                         1.2       65.333333                     80.166667   \n",
      "58                        70.8       46.522222                     56.133333   \n",
      "59                       172.6       50.111111                     35.488889   \n",
      "\n",
      "    Inner Zone : time mobile  Outer Zone : time mobile  \\\n",
      "0                      500.6                     155.4   \n",
      "1                      261.7                     208.6   \n",
      "2                      429.6                     290.6   \n",
      "3                      299.0                     133.5   \n",
      "4                      270.9                     233.6   \n",
      "5                      130.4                      92.0   \n",
      "6                      212.3                      82.0   \n",
      "7                      305.7                     135.1   \n",
      "8                      196.7                     251.8   \n",
      "9                      204.2                     266.9   \n",
      "10                     367.3                     291.6   \n",
      "11                     326.8                     221.1   \n",
      "12                     381.4                     158.1   \n",
      "13                     360.7                     179.9   \n",
      "14                     310.6                     177.8   \n",
      "15                     419.2                     192.7   \n",
      "16                     200.1                     205.8   \n",
      "17                     390.6                      70.0   \n",
      "18                     569.4                     239.6   \n",
      "19                     541.2                     279.0   \n",
      "20                     353.6                     295.5   \n",
      "21                     418.4                     264.8   \n",
      "22                     337.2                     254.2   \n",
      "23                     357.1                     150.0   \n",
      "24                     303.4                      93.3   \n",
      "25                     372.6                     224.3   \n",
      "26                     328.0                     216.6   \n",
      "27                     441.3                     180.1   \n",
      "28                     374.6                     203.3   \n",
      "29                     399.5                     261.3   \n",
      "30                     347.3                     275.6   \n",
      "31                     233.5                     208.9   \n",
      "32                     425.6                     230.2   \n",
      "33                     413.8                     209.1   \n",
      "34                     326.9                     239.7   \n",
      "35                     310.6                     251.7   \n",
      "36                     485.9                     261.0   \n",
      "37                     408.2                     196.7   \n",
      "38                     186.4                     327.6   \n",
      "39                     146.0                     233.2   \n",
      "40                     207.7                     168.6   \n",
      "41                     438.6                     187.3   \n",
      "42                     465.0                     263.4   \n",
      "43                     255.5                     377.0   \n",
      "44                     438.6                     286.4   \n",
      "45                     334.6                     346.8   \n",
      "46                     229.3                     290.8   \n",
      "47                     395.8                     270.9   \n",
      "48                     450.8                     202.9   \n",
      "49                     157.5                     172.2   \n",
      "50                     273.2                     170.8   \n",
      "51                     370.4                     273.8   \n",
      "52                     373.2                     262.3   \n",
      "53                     347.0                     399.7   \n",
      "54                     260.0                     218.6   \n",
      "55                     457.5                     272.4   \n",
      "56                     156.8                     203.7   \n",
      "57                     435.5                     152.5   \n",
      "58                     270.2                     148.4   \n",
      "59                     222.4                     228.6   \n",
      "\n",
      "    Inner zone dist/total distance  \n",
      "0                         0.829021  \n",
      "1                         0.581994  \n",
      "2                         0.716556  \n",
      "3                         0.779929  \n",
      "4                         0.571481  \n",
      "5                         0.617007  \n",
      "6                         0.740230  \n",
      "7                         0.722902  \n",
      "8                         0.517833  \n",
      "9                         0.528110  \n",
      "10                        0.616642  \n",
      "11                        0.688917  \n",
      "12                        0.710906  \n",
      "13                        0.728592  \n",
      "14                        0.719722  \n",
      "15                        0.770106  \n",
      "16                        0.577498  \n",
      "17                        0.884878  \n",
      "18                        0.756623  \n",
      "19                        0.803188  \n",
      "20                        0.589443  \n",
      "21                        0.694335  \n",
      "22                        0.651062  \n",
      "23                        0.714360  \n",
      "24                        0.808720  \n",
      "25                        0.721046  \n",
      "26                        0.690522  \n",
      "27                        0.738039  \n",
      "28                        0.726803  \n",
      "29                        0.697026  \n",
      "30                        0.575199  \n",
      "31                        0.541031  \n",
      "32                        0.711645  \n",
      "33                        0.736918  \n",
      "34                        0.672042  \n",
      "35                        0.630395  \n",
      "36                        0.710714  \n",
      "37                        0.743026  \n",
      "38                        0.365640  \n",
      "39                        0.428839  \n",
      "40                        0.590161  \n",
      "41                        0.800185  \n",
      "42                        0.719163  \n",
      "43                        0.506688  \n",
      "44                        0.681418  \n",
      "45                        0.556292  \n",
      "46                        0.475057  \n",
      "47                        0.698146  \n",
      "48                        0.746480  \n",
      "49                        0.543201  \n",
      "50                        0.625764  \n",
      "51                        0.659928  \n",
      "52                        0.637652  \n",
      "53                        0.585928  \n",
      "54                        0.626592  \n",
      "55                        0.748111  \n",
      "56                        0.482494  \n",
      "57                        0.830290  \n",
      "58                        0.737997  \n",
      "59                        0.523429  \n",
      "\n",
      "[60 rows x 33 columns]\n"
     ]
    }
   ],
   "source": [
    "# first just use the default settings to load the excel file\n",
    "datafilename = '4-1_Sterrett 10.5.2021-1.5.2022 SCP-1 3 Dose WT Male & Female Tetrad.xlsx'\n",
    "\n",
    "data = pd.read_excel(datafilename)\n",
    "print (data) #note we have name NaN data and it didn't capture the correct row/headers for our data."
   ]
  },
  {
   "cell_type": "code",
   "execution_count": 15,
   "metadata": {
    "colab": {
     "base_uri": "https://localhost:8080/"
    },
    "executionInfo": {
     "elapsed": 207,
     "status": "ok",
     "timestamp": 1724699288623,
     "user": {
      "displayName": "NDP Group",
      "userId": "06734609253002248430"
     },
     "user_tz": 300
    },
    "id": "p6bUMrtofoJQ",
    "outputId": "aa06b820-76eb-4ac5-cc5d-5f8f43f364c1"
   },
   "outputs": [
    {
     "name": "stdout",
     "output_type": "stream",
     "text": [
      "Means\n",
      "         Distance  Mean speed  Time freezing  Time mobile  Time immobile  \\\n",
      "Sex                                                                        \n",
      "Female  39.149633    0.043400     151.083333   545.746667     354.253333   \n",
      "Male    39.409867    0.043733     105.253333   571.823333     328.176667   \n",
      "\n",
      "        Inner Zone : entries  Inner Zone : time  Inner Zone : distance  \\\n",
      "Sex                                                                      \n",
      "Female            167.466667         551.523333              27.514433   \n",
      "Male              166.500000         511.000000              25.467933   \n",
      "\n",
      "        Inner Zone : average speed  Inner Zone : max visit  ...  \\\n",
      "Sex                                                         ...   \n",
      "Female                    0.050200               61.803333  ...   \n",
      "Male                      0.049067               52.886667  ...   \n",
      "\n",
      "        Outer Zone : average speed  Outer Zone : max visit  \\\n",
      "Sex                                                          \n",
      "Female                    0.036433               42.973333   \n",
      "Male                      0.037967               41.906667   \n",
      "\n",
      "        Outer Zone : mean visit  Outer Zone : time immobile  \\\n",
      "Sex                                                           \n",
      "Female                 2.200000                  148.206667   \n",
      "Male                   2.573333                  144.630000   \n",
      "\n",
      "        Outer Zone : time freezing  % Time Mobile   \\\n",
      "Sex                                                  \n",
      "Female                   68.903333       60.638519   \n",
      "Male                     49.883333       63.535926   \n",
      "\n",
      "        % Time in Inner(Center) Zone  Inner Zone : time mobile  \\\n",
      "Sex                                                              \n",
      "Female                     61.280558                    345.47   \n",
      "Male                       56.777778                    327.46   \n",
      "\n",
      "        Outer Zone : time mobile  Inner zone dist/total distance  \n",
      "Sex                                                               \n",
      "Female                200.283333                        0.696450  \n",
      "Male                  244.360000                        0.629681  \n",
      "\n",
      "[2 rows x 26 columns]\n",
      "Standard Deviations\n",
      "         Distance  Mean speed  Time freezing  Time mobile  Time immobile  \\\n",
      "Sex                                                                        \n",
      "Female  20.077825    0.022308     110.954464   134.750353     134.750353   \n",
      "Male    13.276262    0.014858      76.949736   125.404698     125.404698   \n",
      "\n",
      "        Inner Zone : entries  Inner Zone : time  Inner Zone : distance  \\\n",
      "Sex                                                                      \n",
      "Female             34.467109         132.493132              15.708919   \n",
      "Male               43.254460         126.819957              10.992147   \n",
      "\n",
      "        Inner Zone : average speed  Inner Zone : max visit  ...  \\\n",
      "Sex                                                         ...   \n",
      "Female                    0.023999               31.070959  ...   \n",
      "Male                      0.016112               23.043134  ...   \n",
      "\n",
      "        Outer Zone : average speed  Outer Zone : max visit  \\\n",
      "Sex                                                          \n",
      "Female                    0.020275               40.777757   \n",
      "Male                      0.012899               46.876411   \n",
      "\n",
      "        Outer Zone : mean visit  Outer Zone : time immobile  \\\n",
      "Sex                                                           \n",
      "Female                 1.131371                  128.163914   \n",
      "Male                   1.336731                  120.994517   \n",
      "\n",
      "        Outer Zone : time freezing  % Time Mobile   \\\n",
      "Sex                                                  \n",
      "Female                   88.639566       14.972261   \n",
      "Male                     69.332338       13.933855   \n",
      "\n",
      "        % Time in Inner(Center) Zone  Inner Zone : time mobile  \\\n",
      "Sex                                                              \n",
      "Female                     14.721319                100.946623   \n",
      "Male                       14.091106                104.465073   \n",
      "\n",
      "        Outer Zone : time mobile  Inner zone dist/total distance  \n",
      "Sex                                                               \n",
      "Female                 65.452252                        0.089225  \n",
      "Male                   62.720604                        0.113522  \n",
      "\n",
      "[2 rows x 26 columns]\n"
     ]
    }
   ],
   "source": [
    "groupeddata = data.groupby('Sex')\n",
    "average_bySex = groupeddata.mean(numeric_only=True)\n",
    "print('Means')\n",
    "print(average_bySex)\n",
    "std_bySex = groupeddata.std(numeric_only=True)\n",
    "print('Standard Deviations')\n",
    "print(std_bySex)"
   ]
  },
  {
   "cell_type": "code",
   "execution_count": 16,
   "metadata": {
    "colab": {
     "base_uri": "https://localhost:8080/",
     "height": 449
    },
    "executionInfo": {
     "elapsed": 1720,
     "status": "ok",
     "timestamp": 1724699305338,
     "user": {
      "displayName": "NDP Group",
      "userId": "06734609253002248430"
     },
     "user_tz": 300
    },
    "id": "3b57hxBHhCBp",
    "outputId": "80ac5629-c9ca-413b-9a02-4183158d2d44"
   },
   "outputs": [
    {
     "data": {
      "image/png": "[encoded data removed]",
      "text/plain": [
       "<Figure size 640x480 with 1 Axes>"
      ]
     },
     "metadata": {},
     "output_type": "display_data"
    }
   ],
   "source": [
    "## quick box plotting.\n",
    "# googled for \"python box plot by group\"\n",
    "# https://www.geeksforgeeks.org/grouped-boxplots-in-python-with-seaborn/\n",
    "\n",
    "\n",
    "import seaborn as sns\n",
    "\n",
    "# create grouped boxplot\n",
    "ax = sns.boxplot(y = data['Distance'],\n",
    "              x = data['Sex'])\n"
   ]
  },
  {
   "cell_type": "code",
   "execution_count": 17,
   "metadata": {
    "colab": {
     "base_uri": "https://localhost:8080/",
     "height": 471
    },
    "executionInfo": {
     "elapsed": 949,
     "status": "ok",
     "timestamp": 1724699321391,
     "user": {
      "displayName": "NDP Group",
      "userId": "06734609253002248430"
     },
     "user_tz": 300
    },
    "id": "QbQtmc9AliWS",
    "outputId": "8b0cee6a-2587-4622-8068-5cc6d894cfdd"
   },
   "outputs": [
    {
     "data": {
      "text/plain": [
       "Text(0.5, 0, 'Sex')"
      ]
     },
     "execution_count": 17,
     "metadata": {},
     "output_type": "execute_result"
    },
    {
     "data": {
      "image/png": "[encoded data removed]",
      "text/plain": [
       "<Figure size 640x480 with 1 Axes>"
      ]
     },
     "metadata": {},
     "output_type": "display_data"
    }
   ],
   "source": [
    "import matplotlib.pyplot as plt\n",
    "\n",
    "ax = sns.boxplot(y = data['Distance'],\n",
    "              x = data['Sex'],\n",
    "              hue = data['Treatment'])\n",
    "\n",
    "ax.set_ylabel(\"Distance ($cm^2$)\",fontsize='x-large',fontweight='bold') #note this uses a strange $ to get the exponent to display\n",
    "ax.set_xlabel(\"Sex\",fontsize='x-large',fontweight='bold')"
   ]
  },
  {
   "cell_type": "code",
   "execution_count": 19,
   "metadata": {
    "colab": {
     "base_uri": "https://localhost:8080/",
     "height": 471
    },
    "executionInfo": {
     "elapsed": 1048,
     "status": "ok",
     "timestamp": 1724699603587,
     "user": {
      "displayName": "NDP Group",
      "userId": "06734609253002248430"
     },
     "user_tz": 300
    },
    "id": "A7v2iSBVGpNh",
    "outputId": "f12b102d-2a9e-48d3-87f9-30d1414e9609"
   },
   "outputs": [
    {
     "data": {
      "text/plain": [
       "Text(0.5, 0, 'Treatment')"
      ]
     },
     "execution_count": 19,
     "metadata": {},
     "output_type": "execute_result"
    },
    {
     "data": {
      "image/png": "[encoded data removed]",
      "text/plain": [
       "<Figure size 640x480 with 1 Axes>"
      ]
     },
     "metadata": {},
     "output_type": "display_data"
    }
   ],
   "source": [
    "# prompt: plot data by treatment for outer zone time\n",
    "\n",
    "# create grouped boxplot\n",
    "ax = sns.boxplot(y = data['Outer Zone : average speed'],\n",
    "              x = data['Treatment'])\n",
    "\n",
    "ax.set_ylabel(\"Outer Zone : average speed\",fontsize='x-large',fontweight='bold') #note this uses a strange $ to get the exponent to display\n",
    "ax.set_xlabel(\"Treatment\",fontsize='x-large',fontweight='bold')\n"
   ]
  }
 ],
 "metadata": {
  "colab": {
   "authorship_tag": "ABX9TyOGSzCpjoF8corgPjTUEeu5",
   "provenance": []
  },
  "kernelspec": {
   "display_name": "base",
   "language": "python",
   "name": "python3"
  },
  "language_info": {
   "codemirror_mode": {
    "name": "ipython",
    "version": 3
   },
   "file_extension": ".py",
   "mimetype": "text/x-python",
   "name": "python",
   "nbconvert_exporter": "python",
   "pygments_lexer": "ipython3",
   "version": "3.11.5"
  }
 },
 "nbformat": 4,
 "nbformat_minor": 0
}
