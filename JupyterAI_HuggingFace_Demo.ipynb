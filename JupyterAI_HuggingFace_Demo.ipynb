{
 "cells": [
  {
   "cell_type": "code",
   "execution_count": null,
   "metadata": {
    "vscode": {
     "languageId": "plaintext"
    }
   },
   "outputs": [],
   "source": [
    "!pip install --quiet \"jupyterlab>=4\" \"jupyter-ai[all]\" python-dotenv\n",
    "\n",
    "import os\n",
    "os.environ[\"JUPYTER_AI_PROVIDER\"] = \"huggingface\"\n",
    "os.environ[\"HUGGINGFACEHUB_API_TOKEN\"] = input(\"Paste your Hugging Face API token: \")\n",
    "\n",
    "from jupyter_ai.magics import AIChatMagics\n",
    "AIChatMagics.load_ipython_extension(get_ipython())\n",
    "\n",
    "%%ai\n",
    "Summarize: Claude Shannon laid the foundation for information theory.\n"
   ]
  }
 ],
 "metadata": {
  "language_info": {
   "name": "python"
  }
 },
 "nbformat": 4,
 "nbformat_minor": 2
}
