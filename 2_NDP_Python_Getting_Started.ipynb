{
  "nbformat": 4,
  "nbformat_minor": 0,
  "metadata": {
    "colab": {
      "provenance": []
    },
    "kernelspec": {
      "name": "python3",
      "display_name": "Python 3"
    },
    "language_info": {
      "name": "python"
    }
  },
  "cells": [
    {
      "cell_type": "markdown",
      "source": [
        "The google link for this tutorial is:\n",
        "\n",
        "\n",
        "link:\n",
        "### https://tinyurl.com/5XY7ZYA7\n",
        "\n",
        "\n",
        "You will need a google login to run.\n",
        "Not all files used in other scripts will be available.\n",
        "\n",
        "You can login with:\n",
        "<br>user: NDPcoding (or NDPcoding@gmail.com)\n",
        "<br>password: NDPcoding\n",
        "\n",
        "\n",
        "First, if you don't see a green checkmark in the upper right (Connect or Reconnect is shown), select \"Connect to a hosted runtime\" from the dropdown menu.\n",
        "\n",
        "\n",
        "You can follow along by opening the file, but please after opening use \"File->Open in Playground Mode\", which will allow you to edit but will not save the changes."
      ],
      "metadata": {
        "id": "76hGHJtgh6XJ"
      }
    },
    {
      "cell_type": "markdown",
      "source": [
        "## Outside resources:\n",
        "This is a getting started with Python for the MCW NDP Coding bootcamp.\n",
        "\n",
        "For those unfamiliar with programming/python, a useful resource is https://www.pythonforbiologists.org/\n",
        "\n",
        "Introduction to Scientific Programming with Python\n",
        "https://link.springer.com/book/10.1007/978-3-030-50356-7\n"
      ],
      "metadata": {
        "id": "BC9WKBI_e-Kc"
      }
    },
    {
      "cell_type": "code",
      "source": [
        "#Comments are not run.\n",
        "# variables assignment and print statements\n",
        "# variables can be any data type: string(\"\"), integer, floating point(1.234; 1.678e-10), boolean (true/false)\n",
        "todisplay = \"Hello World\" #string value\n",
        "number = 3\n",
        "floatingnumber = 3.267\n",
        "booleanval = True\n",
        "\n",
        "newvariable = \"asdf\"\n",
        "\n",
        "print(todisplay)\n",
        "print(number)\n",
        "print(floatingnumber)\n",
        "print(booleanval)\n",
        "\n",
        "\n"
      ],
      "metadata": {
        "colab": {
          "base_uri": "https://localhost:8080/"
        },
        "id": "vxBaxH58f2GB",
        "outputId": "f0ed4781-b36f-4131-f37f-82559febcd11"
      },
      "execution_count": null,
      "outputs": [
        {
          "output_type": "stream",
          "name": "stdout",
          "text": [
            "Hello World\n",
            "3\n",
            "3.267\n",
            "True\n"
          ]
        }
      ]
    },
    {
      "cell_type": "code",
      "source": [
        "print(type(todisplay))\n",
        "print(type(number))\n",
        "print(type(floatingnumber))\n",
        "print(type(booleanval))\n"
      ],
      "metadata": {
        "colab": {
          "base_uri": "https://localhost:8080/"
        },
        "id": "EgLMdN8kJo-O",
        "outputId": "eec7e64a-aeda-4ffb-9968-5c4fbb73d20a"
      },
      "execution_count": null,
      "outputs": [
        {
          "output_type": "stream",
          "name": "stdout",
          "text": [
            "<class 'str'>\n",
            "<class 'int'>\n",
            "<class 'float'>\n",
            "<class 'bool'>\n"
          ]
        }
      ]
    },
    {
      "cell_type": "code",
      "source": [
        "# note that for print statements, we cannot combine strings and numbers without some help\n",
        "# this statement would fail:   print(todisplay + number)\n",
        "# but this will work:\n",
        "print(todisplay + \", number:\" + str(number))"
      ],
      "metadata": {
        "colab": {
          "base_uri": "https://localhost:8080/"
        },
        "id": "9y0bmNOnJvC3",
        "outputId": "ba2e3ded-8a79-4052-8304-62eb59abc8f2"
      },
      "execution_count": null,
      "outputs": [
        {
          "output_type": "stream",
          "name": "stdout",
          "text": [
            "Hello World, number:3\n"
          ]
        }
      ]
    },
    {
      "cell_type": "code",
      "source": [
        "#lists can be strings or other variable types\n",
        "\n",
        "integerlist = [1, 2, 7, 4, 5]\n",
        "stringlist = ['apple','banana','pear']\n",
        "\n",
        "print(integerlist)\n",
        "print(stringlist)\n",
        "\n"
      ],
      "metadata": {
        "colab": {
          "base_uri": "https://localhost:8080/"
        },
        "id": "e3RvcoIP_Pth",
        "outputId": "ed939d09-bb03-4211-d1f8-d895ce2f1624"
      },
      "execution_count": null,
      "outputs": [
        {
          "output_type": "stream",
          "name": "stdout",
          "text": [
            "[1, 2, 7, 4, 5]\n",
            "['apple', 'banana', 'pear']\n"
          ]
        }
      ]
    },
    {
      "cell_type": "markdown",
      "source": [
        "## Section: conditional statements and loops\n",
        "\n",
        "Important note,\n",
        "- in python, indentation is essential for loops and statements (and functions and other tools)\n",
        "- each tab on the beginning of a line defines where that code gets used.\n",
        "- any unexpected errors will appear as 'expected an indented block'"
      ],
      "metadata": {
        "id": "lOS0qwFWf9hC"
      }
    },
    {
      "cell_type": "code",
      "source": [
        "#Conditional statements, if, if/else\n",
        "#  A==B, A<B, A>B, A<=B, A>=B, not A==B,...\n",
        "numFiles = 11\n",
        "\n",
        "if numFiles == 10:\n",
        "  print('yes, 10')\n",
        "else:\n",
        "  print('not 10')\n",
        "#note there is no 'end' statement. Indentation defines where it ends (different than other languages)\n",
        "\n",
        "# also, there does not have to be an 'else' statement.\n",
        "istrue = False\n",
        "if istrue:\n",
        "  print('Yes, is true')\n",
        "\n",
        "print('Outside of if statements')\n",
        "\n",
        "\n"
      ],
      "metadata": {
        "colab": {
          "base_uri": "https://localhost:8080/"
        },
        "id": "EcU5BtuxuNWj",
        "outputId": "41023455-a973-4c3d-e604-f594efeae18f"
      },
      "execution_count": null,
      "outputs": [
        {
          "output_type": "stream",
          "name": "stdout",
          "text": [
            "not 10\n",
            "Outside of if statements\n"
          ]
        }
      ]
    },
    {
      "cell_type": "code",
      "source": [
        "# strings can also be compared\n",
        "sky = 'blue'\n",
        "if not (sky == 'blue'):\n",
        "  print('sky is not blue, it is ' + sky)\n",
        "else:\n",
        "  print('sky is blue')"
      ],
      "metadata": {
        "colab": {
          "base_uri": "https://localhost:8080/"
        },
        "id": "j6sJczV3zNgO",
        "outputId": "d3cbaac2-c950-4d59-eb36-513fc33d3d1f"
      },
      "execution_count": null,
      "outputs": [
        {
          "output_type": "stream",
          "name": "stdout",
          "text": [
            "sky is blue\n"
          ]
        }
      ]
    },
    {
      "cell_type": "code",
      "source": [
        "fname = 'GFAP_1234_something_animal1.tiff'\n",
        "\n",
        "if ('GFAP' in fname):\n",
        "  print('yes GFAP')\n",
        "else:\n",
        "  print('no GFAP')\n",
        "\n",
        "\n"
      ],
      "metadata": {
        "colab": {
          "base_uri": "https://localhost:8080/"
        },
        "id": "H6nZqq7z7i7Y",
        "outputId": "669b6429-9eb5-40ee-a051-dacf1caba5c8"
      },
      "execution_count": null,
      "outputs": [
        {
          "output_type": "stream",
          "name": "stdout",
          "text": [
            "yes GFAP\n"
          ]
        }
      ]
    },
    {
      "cell_type": "code",
      "source": [
        "# combining if statements\n",
        "team = 'ferrari'\n",
        "driver ='leclerec'\n",
        "\n",
        "# statements can be combined as sub-statements:\n",
        "if team == 'ferrari':\n",
        "  if driver == 'leclerec':\n",
        "    print('Forza ferrari!')\n",
        "  elif driver == 'sainz':\n",
        "    print('go carlos')\n",
        "  else:\n",
        "    print('go carlos')\n",
        "else:\n",
        "  print('meh')\n",
        "\n",
        "# or can be combined as and/or statements\n",
        "if (team == 'ferrari') and (driver == 'leclerec'):\n",
        "  print('Drive!')\n",
        "else:\n",
        "  print('meh')\n",
        "\n",
        "\n",
        "#the choice depends on how you need it to work\n"
      ],
      "metadata": {
        "colab": {
          "base_uri": "https://localhost:8080/"
        },
        "id": "YTxvkx2IzTjF",
        "outputId": "8f8acd35-3346-4035-dee3-906b164e91fc"
      },
      "execution_count": null,
      "outputs": [
        {
          "output_type": "stream",
          "name": "stdout",
          "text": [
            "Forza ferrari!\n",
            "Drive!\n"
          ]
        }
      ]
    },
    {
      "cell_type": "code",
      "source": [
        "#loops and conditional statements\n",
        "numFiles = 6\n",
        "numRange = [2, 1, 3, 4, 5, 6] #\n",
        "print(numRange) #prints the object\n",
        "\n",
        "for nf in numRange:  #range(start, stop)\n",
        "  print(nf)\n",
        "  if nf == 4:\n",
        "    print('Skipping' , nf,'for some reason')\n",
        "  else:\n",
        "    print(\"I'm at\", nf)\n",
        "print('Can also use this type of print, but convert numbers to string '+str(4))\n"
      ],
      "metadata": {
        "colab": {
          "base_uri": "https://localhost:8080/"
        },
        "id": "p5Wc9ljLgYHz",
        "outputId": "530ee60d-5aa9-43d8-a054-4174ffdc58db"
      },
      "execution_count": null,
      "outputs": [
        {
          "output_type": "stream",
          "name": "stdout",
          "text": [
            "[2, 1, 3, 4, 5, 6]\n",
            "2\n",
            "I'm at 2\n",
            "1\n",
            "I'm at 1\n",
            "3\n",
            "I'm at 3\n",
            "4\n",
            "Skipping 4 for some reason\n",
            "5\n",
            "I'm at 5\n",
            "6\n",
            "I'm at 6\n",
            "Can also use this type of print, but convert numbers to string 4\n"
          ]
        }
      ]
    },
    {
      "cell_type": "code",
      "source": [
        "#loops and conditional statements\n",
        "nf = 10\n",
        "while nf > 0:\n",
        "  print(nf)\n",
        "  if nf == 4:\n",
        "    print('Skipping' , nf,'for some reason')\n",
        "  else:\n",
        "    print(\"I'm at\", nf)\n",
        "  nf = nf - 1 # note this is within the for loop.  If you don't have it, you will loop forever (nf never gets to 0)\n",
        "\n"
      ],
      "metadata": {
        "colab": {
          "base_uri": "https://localhost:8080/"
        },
        "id": "qgbA4O4fu4-R",
        "outputId": "4e768265-beff-426b-9a29-b647d10c443d"
      },
      "execution_count": null,
      "outputs": [
        {
          "output_type": "stream",
          "name": "stdout",
          "text": [
            "10\n",
            "I'm at 10\n",
            "9\n",
            "I'm at 9\n",
            "8\n",
            "I'm at 8\n",
            "7\n",
            "I'm at 7\n",
            "6\n",
            "I'm at 6\n",
            "5\n",
            "I'm at 5\n",
            "4\n",
            "Skipping 4 for some reason\n",
            "3\n",
            "I'm at 3\n",
            "2\n",
            "I'm at 2\n",
            "1\n",
            "I'm at 1\n"
          ]
        }
      ]
    },
    {
      "cell_type": "markdown",
      "source": [
        "An example of a list, also often referred to as an array (but strictly a list in python)"
      ],
      "metadata": {
        "id": "N4OQiEHLiqig"
      }
    },
    {
      "cell_type": "markdown",
      "source": [
        "## Lists"
      ],
      "metadata": {
        "id": "1SMz7dKKOGCb"
      }
    },
    {
      "cell_type": "code",
      "source": [
        "#loops across lists\n",
        "testlistnum = [3, 6, 7, 2.1,  11, 12] #number list\n",
        "\n",
        "# note that the first item in a list is zero: testlistnum[0] is 3.\n",
        "for s in range(0,len(testlistnum)):\n",
        "  stimes10 = testlistnum[s] * 10\n",
        "  print(stimes10)\n",
        "\n",
        "print(testlistnum[2]) #0 is first element"
      ],
      "metadata": {
        "colab": {
          "base_uri": "https://localhost:8080/"
        },
        "id": "Xep8_EnqisXU",
        "outputId": "1c621285-4919-4645-e627-650b8a3d1b7b"
      },
      "execution_count": null,
      "outputs": [
        {
          "output_type": "stream",
          "name": "stdout",
          "text": [
            "30\n",
            "60\n",
            "70\n",
            "21.0\n",
            "110\n",
            "120\n",
            "7\n"
          ]
        }
      ]
    },
    {
      "cell_type": "code",
      "source": [
        "testlisttext = ['car','horse','bike', 'scooter'] #string list\n",
        "for s in range(0,len(testlisttext)):\n",
        "  print(testlisttext[s])\n",
        "\n",
        "#you can also append to a list:\n",
        "testlisttext.append('elephant')\n",
        "print(testlisttext)"
      ],
      "metadata": {
        "colab": {
          "base_uri": "https://localhost:8080/"
        },
        "id": "NLUU2sfTvY-A",
        "outputId": "e5c461e1-aeb9-4e24-e065-6c41641bd59b"
      },
      "execution_count": null,
      "outputs": [
        {
          "output_type": "stream",
          "name": "stdout",
          "text": [
            "car\n",
            "horse\n",
            "bike\n",
            "scooter\n",
            "['car', 'horse', 'bike', 'scooter', 'elephant']\n"
          ]
        }
      ]
    },
    {
      "cell_type": "markdown",
      "source": [
        "A note about errors"
      ],
      "metadata": {
        "id": "3ttssV67g4C8"
      }
    },
    {
      "cell_type": "code",
      "source": [
        "# this example will produce an error because twelve variable is not set (defined)\n",
        "twelve = 'car'\n",
        "if twelve == \"car\":\n",
        "  print('didnt get here')"
      ],
      "metadata": {
        "id": "GsdRv07bhLP7",
        "colab": {
          "base_uri": "https://localhost:8080/"
        },
        "outputId": "98c90920-5c19-469b-c473-e878cc9e694e"
      },
      "execution_count": null,
      "outputs": [
        {
          "output_type": "stream",
          "name": "stdout",
          "text": [
            "didnt get here\n"
          ]
        }
      ]
    },
    {
      "cell_type": "code",
      "source": [
        "#you will often see syntax like this in python code\n",
        "c = [b*b for b in range(0,5)]  #square numbers 0 to 4\n",
        "print(c)\n",
        "\n",
        "\n",
        "#it is simply a more compact version of this\n",
        "c2 = []\n",
        "for b in range(0,5):\n",
        "  c2.append(b*b)\n",
        "\n",
        "print(c2)\n"
      ],
      "metadata": {
        "colab": {
          "base_uri": "https://localhost:8080/"
        },
        "id": "gPi3ZaGrWjnm",
        "outputId": "f8be4f84-ce2e-44d7-a063-7d5d60f8421c"
      },
      "execution_count": null,
      "outputs": [
        {
          "output_type": "stream",
          "name": "stdout",
          "text": [
            "[0, 1, 4, 9, 16]\n",
            "[0, 1, 4, 9, 16]\n"
          ]
        }
      ]
    },
    {
      "cell_type": "markdown",
      "source": [
        "## Section: Importing, modules, functions, and references\n",
        "There are many different packages available that have different features to use.\n",
        "Do not reinvent the wheel, so first look for (google) some task, package, tool that has resources you might need.\n"
      ],
      "metadata": {
        "id": "r_bSJvL2K0t6"
      }
    },
    {
      "cell_type": "code",
      "source": [
        "#some are simple:\n",
        "import math\n",
        "r = math.sqrt(2)\n",
        "print(r)"
      ],
      "metadata": {
        "colab": {
          "base_uri": "https://localhost:8080/"
        },
        "id": "0l6_f2LeLKXf",
        "outputId": "6ee16d7e-8c99-420b-e19d-20cbaf589328"
      },
      "execution_count": null,
      "outputs": [
        {
          "output_type": "stream",
          "name": "stdout",
          "text": [
            "1.4142135623730951\n"
          ]
        }
      ]
    },
    {
      "cell_type": "code",
      "source": [
        "from math import sqrt\n",
        "r = sqrt(2)\n",
        "print(r)"
      ],
      "metadata": {
        "colab": {
          "base_uri": "https://localhost:8080/"
        },
        "id": "ynFFZyrxLko_",
        "outputId": "7b83c3e5-1052-403f-91d1-4a890d49d270"
      },
      "execution_count": null,
      "outputs": [
        {
          "output_type": "stream",
          "name": "stdout",
          "text": [
            "1.4142135623730951\n"
          ]
        }
      ]
    },
    {
      "cell_type": "code",
      "source": [
        "from math import * # import everything in math\n",
        "r = sqrt(2)\n",
        "print(r)"
      ],
      "metadata": {
        "colab": {
          "base_uri": "https://localhost:8080/"
        },
        "id": "BX4bNP1gLkz6",
        "outputId": "a11cff37-f46d-4571-be76-41507a311d0b"
      },
      "execution_count": null,
      "outputs": [
        {
          "output_type": "stream",
          "name": "stdout",
          "text": [
            "1.4142135623730951\n"
          ]
        }
      ]
    },
    {
      "cell_type": "code",
      "source": [
        "import os\n",
        "\n",
        "filename = \"somefile.txt\"\n",
        "filepath = \"some/path/name/here\"\n",
        "\n",
        "fullfile = os.path.join(filepath,filename)\n",
        "print(fullfile)\n"
      ],
      "metadata": {
        "colab": {
          "base_uri": "https://localhost:8080/"
        },
        "id": "bKR1nTDxL-_6",
        "outputId": "7951318b-f8ee-4308-f746-9fba0c38447f"
      },
      "execution_count": null,
      "outputs": [
        {
          "output_type": "stream",
          "name": "stdout",
          "text": [
            "some/path/name/here/somefile.txt\n"
          ]
        }
      ]
    },
    {
      "cell_type": "code",
      "source": [
        "#file handles\n",
        "\n",
        "fp = open(filename,'wt')\n",
        "fp.write('Im writing some text to this file.')\n",
        "fp.close()\n",
        "\n",
        "\n",
        "#python preferred way:\n",
        "with open(filename,'at') as fp:\n",
        "  fp.write(\"\\n\") #write a newline since we didn't previously\n",
        "  fp.write(\"This will append to the previous file.\")\n",
        "\n",
        "#note there is no explicit close here, since it is assumed\n",
        "\n",
        "\n",
        "with open(filename,'r') as fp:\n",
        "  filecontents = fp.read()\n",
        "\n",
        "print(filecontents)\n",
        "\n"
      ],
      "metadata": {
        "colab": {
          "base_uri": "https://localhost:8080/"
        },
        "id": "g5AiWJHdMtn4",
        "outputId": "023c9cd3-5869-40e2-a7fc-d4276412e780"
      },
      "execution_count": null,
      "outputs": [
        {
          "output_type": "stream",
          "name": "stdout",
          "text": [
            "Im writing some text to this file.\n",
            "This will append to the previous file.\n"
          ]
        }
      ]
    },
    {
      "cell_type": "code",
      "source": [
        "# to install features, use pip: python installer"
      ],
      "metadata": {
        "id": "yiu9KavyL0ht"
      },
      "execution_count": null,
      "outputs": []
    },
    {
      "cell_type": "markdown",
      "source": [
        "## Section: Functions\n",
        "If we want to reuse code, functions can help\n",
        "format is\n",
        "def name(arguments):\n",
        "  something = dosomething()\n",
        "  return something"
      ],
      "metadata": {
        "id": "xHLL4i50OpIq"
      }
    },
    {
      "cell_type": "code",
      "source": [
        "# define a function to add two numbers. Note here the return statement that sends the result as the output\n",
        "def addTwoNumbers(a,b):\n",
        "  c = a + b\n",
        "  return c\n",
        "\n",
        "\n",
        "result = addTwoNumbers(10,11)\n",
        "print(result)"
      ],
      "metadata": {
        "colab": {
          "base_uri": "https://localhost:8080/"
        },
        "id": "gNGo9_K6OxWV",
        "outputId": "03452f9d-3289-4dae-f1f7-439d4bd625ad"
      },
      "execution_count": null,
      "outputs": [
        {
          "output_type": "stream",
          "name": "stdout",
          "text": [
            "21\n"
          ]
        }
      ]
    },
    {
      "cell_type": "code",
      "source": [
        "# multiple returns can be used\n",
        "def doubleSquares(a):\n",
        "  b = a * a\n",
        "  c = b * b\n",
        "  return b, c\n",
        "\n",
        "\n",
        "this, that = doubleSquares(6)\n",
        "print(this)\n",
        "print(that)"
      ],
      "metadata": {
        "colab": {
          "base_uri": "https://localhost:8080/"
        },
        "id": "tRkAjgFZPULq",
        "outputId": "3debf6c1-23d7-478c-85c8-733bfdf8d9b6"
      },
      "execution_count": null,
      "outputs": [
        {
          "output_type": "stream",
          "name": "stdout",
          "text": [
            "36\n",
            "1296\n"
          ]
        }
      ]
    },
    {
      "cell_type": "code",
      "source": [
        "# multiple inputs and returns can be used\n",
        "def doubleSquares(a, b):\n",
        "  a2 = a * a\n",
        "  b2 = b * b\n",
        "  return a2, b2\n",
        "\n",
        "\n",
        "this, that = doubleSquares(6,4)\n",
        "print(this)\n",
        "print(that)"
      ],
      "metadata": {
        "colab": {
          "base_uri": "https://localhost:8080/"
        },
        "id": "jZgtIaHCiJCe",
        "outputId": "abd94d18-ba51-4f88-e36e-59cd9967e1ed"
      },
      "execution_count": null,
      "outputs": [
        {
          "output_type": "stream",
          "name": "stdout",
          "text": [
            "36\n",
            "16\n"
          ]
        }
      ]
    },
    {
      "cell_type": "code",
      "source": [
        "# variables and their 'scope'\n",
        "# variables within functions are local, that is, separate and only have the value inside of the function\n",
        "startingvar = 12\n",
        "def multByTwo(thisA):\n",
        "  startingvar = thisA * 2\n",
        "  print(startingvar)\n",
        "  return startingvar\n",
        "\n",
        "endingvar = multByTwo(startingvar)\n",
        "print(startingvar)"
      ],
      "metadata": {
        "colab": {
          "base_uri": "https://localhost:8080/"
        },
        "id": "a_QiLmagPvA0",
        "outputId": "2e0d422a-f324-48db-80b5-7f89e92cfafd"
      },
      "execution_count": null,
      "outputs": [
        {
          "output_type": "stream",
          "name": "stdout",
          "text": [
            "24\n",
            "12\n"
          ]
        }
      ]
    },
    {
      "cell_type": "code",
      "source": [
        "var123 = 12\n",
        "print(var123)\n",
        "\n",
        "def doSomething(a):\n",
        "  global var123\n",
        "  var123 = 2\n",
        "  print('inside of function')\n",
        "  print(var123)\n",
        "  c = a * 123\n",
        "  return c\n",
        "\n",
        "print('before calling function')\n",
        "print(var123)\n",
        "a = doSomething(6)\n",
        "print('after calling function')\n",
        "print(var123)"
      ],
      "metadata": {
        "colab": {
          "base_uri": "https://localhost:8080/"
        },
        "id": "Nnp1MM0LQwWQ",
        "outputId": "b3605b8c-ce0b-4841-803f-71ff0aca0633"
      },
      "execution_count": null,
      "outputs": [
        {
          "output_type": "stream",
          "name": "stdout",
          "text": [
            "12\n",
            "before calling function\n",
            "12\n",
            "inside of function\n",
            "2\n",
            "after calling function\n",
            "2\n"
          ]
        }
      ]
    },
    {
      "cell_type": "code",
      "source": [
        "\n",
        "try:\n",
        "  a = 1 / 0\n",
        "except:\n",
        "  print('Tried something stupid')"
      ],
      "metadata": {
        "colab": {
          "base_uri": "https://localhost:8080/"
        },
        "id": "xh-BdONXB3fq",
        "outputId": "8ac52073-4363-48dd-e40c-4006e0ec5723"
      },
      "execution_count": null,
      "outputs": [
        {
          "output_type": "stream",
          "name": "stdout",
          "text": [
            "Tried something stupid\n"
          ]
        }
      ]
    }
  ]
}