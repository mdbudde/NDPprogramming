{
 "cells": [
  {
   "cell_type": "code",
   "execution_count": null,
   "metadata": {
    "colab": {
     "base_uri": "https://localhost:8080/"
    },
    "executionInfo": {
     "elapsed": 117,
     "status": "ok",
     "timestamp": 1699471863172,
     "user": {
      "displayName": "NDP Group",
      "userId": "06734609253002248430"
     },
     "user_tz": 360
    },
    "id": "6N7MGncqZtDE",
    "outputId": "a6719398-06d0-4bdc-c4af-df82fc0caae2"
   },
   "outputs": [],
   "source": [
    "!python -V\n",
    "\n",
    "\n"
   ]
  },
  {
   "cell_type": "code",
   "execution_count": null,
   "metadata": {
    "colab": {
     "base_uri": "https://localhost:8080/"
    },
    "executionInfo": {
     "elapsed": 5250,
     "status": "ok",
     "timestamp": 1699472373554,
     "user": {
      "displayName": "NDP Group",
      "userId": "06734609253002248430"
     },
     "user_tz": 360
    },
    "id": "1_1-L39NaLse",
    "outputId": "aa41aecd-59cb-4302-b9b7-f2e322ce067f"
   },
   "outputs": [],
   "source": [
    "#import openpyxl\n",
    "\n",
    "!pip install pandas numpy matplotlib"
   ]
  },
  {
   "cell_type": "code",
   "execution_count": null,
   "metadata": {
    "executionInfo": {
     "elapsed": 697,
     "status": "ok",
     "timestamp": 1699472384282,
     "user": {
      "displayName": "NDP Group",
      "userId": "06734609253002248430"
     },
     "user_tz": 360
    },
    "id": "h5VtDPGHcpNv"
   },
   "outputs": [],
   "source": [
    "\n"
   ]
  }
 ],
 "metadata": {
  "colab": {
   "authorship_tag": "ABX9TyMreQUIQ/eqnMpGuD/LQU1A",
   "provenance": []
  },
  "kernelspec": {
   "display_name": "mrianimal",
   "language": "python",
   "name": "python3"
  },
  "language_info": {
   "codemirror_mode": {
    "name": "ipython",
    "version": 3
   },
   "file_extension": ".py",
   "mimetype": "text/x-python",
   "name": "python",
   "nbconvert_exporter": "python",
   "pygments_lexer": "ipython3",
   "version": "3.12.3"
  }
 },
 "nbformat": 4,
 "nbformat_minor": 0
}
