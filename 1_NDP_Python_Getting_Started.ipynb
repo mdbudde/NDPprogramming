{
  "cells": [
    {
      "cell_type": "markdown",
      "metadata": {
        "id": "76hGHJtgh6XJ"
      },
      "source": [
        "This tutorial is stored in github.\n",
        "It can be launched in a notebook through mybinder.org:\n",
        "\n",
        "Enter link into browser:\n",
        "### https://tinyurl.com/4sjym68w\n",
        "\n",
        "https://mybinder.org/v2/gh/mdbudde/NDPprogramming.git/HEAD\n",
        "\n",
        "First, if you don't see a green checkmark in the upper right (Connect or Reconnect is shown), select \"Connect to a hosted runtime\" from the dropdown menu.\n",
        "\n",
        "\n",
        "You can follow along by opening the file, but please after opening use \"File->Open in Playground Mode\", which will allow you to edit but will not save the changes."
      ]
    },
    {
      "cell_type": "markdown",
      "metadata": {
        "id": "BC9WKBI_e-Kc"
      },
      "source": [
        "## Outside resources:\n",
        "This is a getting started with Python for the MCW NDP Coding bootcamp.\n",
        "\n",
        "For those unfamiliar with programming/python, a useful resource is https://www.pythonforbiologists.org/\n",
        "\n",
        "Introduction to Scientific Programming with Python\n",
        "https://link.springer.com/book/10.1007/978-3-030-50356-7\n"
      ]
    },
    {
      "cell_type": "code",
      "execution_count": 1,
      "metadata": {
        "colab": {
          "base_uri": "https://localhost:8080/"
        },
        "id": "vxBaxH58f2GB",
        "outputId": "f0ed4781-b36f-4131-f37f-82559febcd11"
      },
      "outputs": [
        {
          "name": "stdout",
          "output_type": "stream",
          "text": [
            "Hello World\n",
            "3\n",
            "3.267\n",
            "True\n"
          ]
        }
      ],
      "source": [
        "#To execute code, click in this 'cell', and click the 'play' button above 'Run this cell and advance'.\n",
        "\n",
        "\n",
        "\n",
        "#Comments are not run.\n",
        "# variables assignment and print statements\n",
        "# variables can be any data type: string(\"\"), integer, floating point(1.234; 1.678e-10), boolean (true/false)\n",
        "todisplay = \"Hello World\" #string value\n",
        "number = 3\n",
        "floatingnumber = 3.267\n",
        "booleanval = True\n",
        "\n",
        "print(todisplay)\n",
        "print(number)\n",
        "print(floatingnumber)\n",
        "print(booleanval)\n",
        "\n",
        "\n"
      ]
    },
    {
      "cell_type": "code",
      "execution_count": 3,
      "metadata": {
        "colab": {
          "base_uri": "https://localhost:8080/"
        },
        "id": "EgLMdN8kJo-O",
        "outputId": "eec7e64a-aeda-4ffb-9968-5c4fbb73d20a"
      },
      "outputs": [
        {
          "name": "stdout",
          "output_type": "stream",
          "text": [
            "<class 'str'>\n",
            "<class 'int'>\n",
            "<class 'float'>\n",
            "<class 'bool'>\n"
          ]
        }
      ],
      "source": [
        "print(type(todisplay)) #string, can be anything\n",
        "print(type(number)) #integer, from -2,147,483,648 to 2,147,483,647\n",
        "print(type(floatingnumber)) #a floating point number, can be positive or negative\n",
        "print(type(booleanval))  #True or False\n"
      ]
    },
    {
      "cell_type": "code",
      "execution_count": 5,
      "metadata": {
        "colab": {
          "base_uri": "https://localhost:8080/"
        },
        "id": "e3RvcoIP_Pth",
        "outputId": "ed939d09-bb03-4211-d1f8-d895ce2f1624"
      },
      "outputs": [
        {
          "name": "stdout",
          "output_type": "stream",
          "text": [
            "[1, 2, 7, 4, 5]\n",
            "['apple', 'banana', 'pear']\n"
          ]
        }
      ],
      "source": [
        "#lists can be strings or other variable types\n",
        "\n",
        "integerlist = [1, 2, 7, 4, 5]\n",
        "stringlist = ['apple','banana','pear']\n",
        "\n",
        "print(integerlist)\n",
        "print(stringlist)\n",
        "\n"
      ]
    },
    {
      "cell_type": "markdown",
      "metadata": {
        "id": "lOS0qwFWf9hC"
      },
      "source": [
        "## Section: conditional statements and loops\n",
        "\n",
        "Important note,\n",
        "- in python, indentation is essential for loops and statements (and functions and other tools)\n",
        "- each tab on the beginning of a line defines where that code gets used.\n",
        "- any unexpected errors will appear as 'expected an indented block'"
      ]
    },
    {
      "cell_type": "code",
      "execution_count": 6,
      "metadata": {
        "colab": {
          "base_uri": "https://localhost:8080/"
        },
        "id": "EcU5BtuxuNWj",
        "outputId": "41023455-a973-4c3d-e604-f594efeae18f"
      },
      "outputs": [
        {
          "name": "stdout",
          "output_type": "stream",
          "text": [
            "not 10\n",
            "Outside of if statements\n"
          ]
        }
      ],
      "source": [
        "#Conditional statements, if, if/else\n",
        "#  A==B, A<B, A>B, A<=B, A>=B, not A==B,...\n",
        "numFiles = 11\n",
        "\n",
        "if numFiles == 10:\n",
        "  print('yes, 10')\n",
        "else:\n",
        "  print('not 10')\n",
        "#note there is no 'end' statement. Indentation defines where it ends (different than other languages)\n",
        "\n",
        "# also, there does not have to be an 'else' statement.\n",
        "istrue = False\n",
        "if istrue:\n",
        "  print('Yes, is true')\n",
        "\n",
        "print('Outside of if statements')\n",
        "\n",
        "\n"
      ]
    },
    {
      "cell_type": "code",
      "execution_count": 8,
      "metadata": {
        "colab": {
          "base_uri": "https://localhost:8080/"
        },
        "id": "j6sJczV3zNgO",
        "outputId": "d3cbaac2-c950-4d59-eb36-513fc33d3d1f"
      },
      "outputs": [
        {
          "name": "stdout",
          "output_type": "stream",
          "text": [
            "sky is not blue, it is red\n"
          ]
        }
      ],
      "source": [
        "# strings can also be compared\n",
        "sky = 'red'\n",
        "if not (sky == 'blue'):\n",
        "  print('sky is not blue, it is ' + sky)\n",
        "else:\n",
        "  print('sky is blue')"
      ]
    },
    {
      "cell_type": "code",
      "execution_count": 9,
      "metadata": {
        "colab": {
          "base_uri": "https://localhost:8080/"
        },
        "id": "H6nZqq7z7i7Y",
        "outputId": "669b6429-9eb5-40ee-a051-dacf1caba5c8"
      },
      "outputs": [
        {
          "name": "stdout",
          "output_type": "stream",
          "text": [
            "yes GFAP\n"
          ]
        }
      ],
      "source": [
        "fname = 'GFAP_1234_something_animal1.tiff'\n",
        "\n",
        "if ('GFAP' in fname):\n",
        "  print('yes GFAP')\n",
        "else:\n",
        "  print('no GFAP')\n",
        "\n",
        "\n"
      ]
    },
    {
      "cell_type": "code",
      "execution_count": 10,
      "metadata": {
        "colab": {
          "base_uri": "https://localhost:8080/"
        },
        "id": "YTxvkx2IzTjF",
        "outputId": "8f8acd35-3346-4035-dee3-906b164e91fc"
      },
      "outputs": [
        {
          "name": "stdout",
          "output_type": "stream",
          "text": [
            "Forza ferrari!\n",
            "Drive!\n"
          ]
        }
      ],
      "source": [
        "# combining if statements\n",
        "team = 'ferrari'\n",
        "driver ='leclerec'\n",
        "\n",
        "# statements can be combined as sub-statements:\n",
        "if team == 'ferrari':\n",
        "  if driver == 'leclerec':\n",
        "    print('Forza ferrari!')\n",
        "  elif driver == 'sainz':\n",
        "    print('go carlos')\n",
        "  else:\n",
        "    print('go carlos')\n",
        "else:\n",
        "  print('meh')\n",
        "\n",
        "# or can be combined as and/or statements\n",
        "if (team == 'ferrari') and (driver == 'leclerec'):\n",
        "  print('Drive!')\n",
        "else:\n",
        "  print('meh')\n",
        "\n",
        "\n",
        "#the choice depends on how you need it to work\n"
      ]
    },
    {
      "cell_type": "code",
      "execution_count": 11,
      "metadata": {
        "colab": {
          "base_uri": "https://localhost:8080/"
        },
        "id": "p5Wc9ljLgYHz",
        "outputId": "530ee60d-5aa9-43d8-a054-4174ffdc58db"
      },
      "outputs": [
        {
          "name": "stdout",
          "output_type": "stream",
          "text": [
            "[2, 1, 3, 4, 5, 6]\n",
            "2\n",
            "I'm at 2\n",
            "1\n",
            "I'm at 1\n",
            "3\n",
            "I'm at 3\n",
            "4\n",
            "Skipping 4 for some reason\n",
            "5\n",
            "I'm at 5\n",
            "6\n",
            "I'm at 6\n",
            "Can also use this type of print, but convert numbers to string 4\n"
          ]
        }
      ],
      "source": [
        "#loops and conditional statements\n",
        "numFiles = 6\n",
        "numRange = [2, 1, 3, 4, 5, 6] #\n",
        "print(numRange) #prints the object\n",
        "\n",
        "for nf in numRange:  #range(start, stop)\n",
        "  print(nf)\n",
        "  if nf == 4:\n",
        "    print('Skipping' , nf,'for some reason')\n",
        "  else:\n",
        "    print(\"I'm at\", nf)\n",
        "print('Can also use this type of print, but convert numbers to string '+str(4))\n"
      ]
    },
    {
      "cell_type": "code",
      "execution_count": 12,
      "metadata": {
        "colab": {
          "base_uri": "https://localhost:8080/"
        },
        "id": "qgbA4O4fu4-R",
        "outputId": "4e768265-beff-426b-9a29-b647d10c443d"
      },
      "outputs": [
        {
          "name": "stdout",
          "output_type": "stream",
          "text": [
            "10\n",
            "I'm at 10\n",
            "9\n",
            "I'm at 9\n",
            "8\n",
            "I'm at 8\n",
            "7\n",
            "I'm at 7\n",
            "6\n",
            "I'm at 6\n",
            "5\n",
            "I'm at 5\n",
            "4\n",
            "Skipping 4 for some reason\n",
            "3\n",
            "I'm at 3\n",
            "2\n",
            "I'm at 2\n",
            "1\n",
            "I'm at 1\n"
          ]
        }
      ],
      "source": [
        "#loops and conditional statements\n",
        "nf = 10\n",
        "while nf > 0:\n",
        "  print(nf)\n",
        "  if nf == 4:\n",
        "    print('Skipping' , nf,'for some reason')\n",
        "  else:\n",
        "    print(\"I'm at\", nf)\n",
        "  nf = nf - 1 # note this is within the for loop.  If you don't have it, you will loop forever (nf never gets to 0)\n",
        "\n"
      ]
    },
    {
      "cell_type": "markdown",
      "metadata": {
        "id": "N4OQiEHLiqig"
      },
      "source": [
        "An example of a list, also often referred to as an array (but strictly a list in python)"
      ]
    },
    {
      "cell_type": "markdown",
      "metadata": {
        "id": "1SMz7dKKOGCb"
      },
      "source": [
        "## Lists"
      ]
    },
    {
      "cell_type": "code",
      "execution_count": null,
      "metadata": {
        "colab": {
          "base_uri": "https://localhost:8080/"
        },
        "id": "Xep8_EnqisXU",
        "outputId": "1c621285-4919-4645-e627-650b8a3d1b7b"
      },
      "outputs": [
        {
          "name": "stdout",
          "output_type": "stream",
          "text": [
            "30\n",
            "60\n",
            "70\n",
            "21.0\n",
            "110\n",
            "120\n",
            "7\n"
          ]
        }
      ],
      "source": [
        "#loops across lists\n",
        "testlistnum = [3, 6, 7, 2.1,  11, 12] #number list\n",
        "\n",
        "# note that the first item in a list is zero: testlistnum[0] is 3.\n",
        "for s in range(0,len(testlistnum)):\n",
        "  stimes10 = testlistnum[s] * 10\n",
        "  print(stimes10)\n",
        "\n",
        "print(testlistnum[2]) #0 is first element"
      ]
    },
    {
      "cell_type": "code",
      "execution_count": null,
      "metadata": {
        "colab": {
          "base_uri": "https://localhost:8080/"
        },
        "id": "NLUU2sfTvY-A",
        "outputId": "e5c461e1-aeb9-4e24-e065-6c41641bd59b"
      },
      "outputs": [
        {
          "name": "stdout",
          "output_type": "stream",
          "text": [
            "car\n",
            "horse\n",
            "bike\n",
            "scooter\n",
            "['car', 'horse', 'bike', 'scooter', 'elephant']\n"
          ]
        }
      ],
      "source": [
        "testlisttext = ['car','horse','bike', 'scooter'] #string list\n",
        "for s in range(0,len(testlisttext)):\n",
        "  print(testlisttext[s])\n",
        "\n",
        "#you can also append to a list:\n",
        "testlisttext.append('elephant')\n",
        "print(testlisttext)"
      ]
    },
    {
      "cell_type": "markdown",
      "metadata": {
        "id": "3ttssV67g4C8"
      },
      "source": [
        "A note about errors"
      ]
    },
    {
      "cell_type": "code",
      "execution_count": 13,
      "metadata": {
        "colab": {
          "base_uri": "https://localhost:8080/"
        },
        "id": "GsdRv07bhLP7",
        "outputId": "98c90920-5c19-469b-c473-e878cc9e694e"
      },
      "outputs": [
        {
          "ename": "NameError",
          "evalue": "name 'twelve' is not defined",
          "output_type": "error",
          "traceback": [
            "\u001b[0;31m---------------------------------------------------------------------------\u001b[0m",
            "\u001b[0;31mNameError\u001b[0m                                 Traceback (most recent call last)",
            "Cell \u001b[0;32mIn[13], line 4\u001b[0m\n\u001b[1;32m      1\u001b[0m \u001b[38;5;66;03m# this example will produce an error because twelve variable is not set (defined)\u001b[39;00m\n\u001b[1;32m      2\u001b[0m \u001b[38;5;66;03m# run it, then uncomment the next line to see it work\u001b[39;00m\n\u001b[1;32m      3\u001b[0m \u001b[38;5;66;03m# twelve = \"car\"\u001b[39;00m\n\u001b[0;32m----> 4\u001b[0m \u001b[38;5;28;01mif\u001b[39;00m \u001b[43mtwelve\u001b[49m \u001b[38;5;241m==\u001b[39m \u001b[38;5;124m\"\u001b[39m\u001b[38;5;124mcar\u001b[39m\u001b[38;5;124m\"\u001b[39m:\n\u001b[1;32m      5\u001b[0m   \u001b[38;5;28mprint\u001b[39m(\u001b[38;5;124m'\u001b[39m\u001b[38;5;124mdidnt get here\u001b[39m\u001b[38;5;124m'\u001b[39m)\n",
            "\u001b[0;31mNameError\u001b[0m: name 'twelve' is not defined"
          ]
        }
      ],
      "source": [
        "# this example will produce an error because twelve variable is not set (defined)\n",
        "# run it, then uncomment the next line to see it work\n",
        "# twelve = \"car\"\n",
        "if twelve == \"car\":\n",
        "  print('didnt get here')"
      ]
    },
    {
      "cell_type": "markdown",
      "metadata": {
        "id": "r_bSJvL2K0t6"
      },
      "source": [
        "## Section: Importing, modules, functions, and references\n",
        "There are many different packages available that have different features to use.\n",
        "Do not reinvent the wheel, so first look for (google) some task, package, tool that has resources you might need.\n"
      ]
    },
    {
      "cell_type": "code",
      "execution_count": null,
      "metadata": {
        "colab": {
          "base_uri": "https://localhost:8080/"
        },
        "id": "0l6_f2LeLKXf",
        "outputId": "6ee16d7e-8c99-420b-e19d-20cbaf589328"
      },
      "outputs": [
        {
          "name": "stdout",
          "output_type": "stream",
          "text": [
            "1.4142135623730951\n"
          ]
        }
      ],
      "source": [
        "#some are simple:\n",
        "import math\n",
        "r = math.sqrt(2)\n",
        "print(r)"
      ]
    },
    {
      "cell_type": "code",
      "execution_count": null,
      "metadata": {
        "colab": {
          "base_uri": "https://localhost:8080/"
        },
        "id": "bKR1nTDxL-_6",
        "outputId": "7951318b-f8ee-4308-f746-9fba0c38447f"
      },
      "outputs": [
        {
          "name": "stdout",
          "output_type": "stream",
          "text": [
            "some/path/name/here/somefile.txt\n"
          ]
        }
      ],
      "source": [
        "import os\n",
        "\n",
        "filename = \"somefile.txt\"\n",
        "filepath = \"some/path/name/here\"\n",
        "\n",
        "fullfile = os.path.join(filepath,filename)\n",
        "print(fullfile)\n"
      ]
    },
    {
      "cell_type": "code",
      "execution_count": null,
      "metadata": {
        "colab": {
          "base_uri": "https://localhost:8080/"
        },
        "id": "g5AiWJHdMtn4",
        "outputId": "023c9cd3-5869-40e2-a7fc-d4276412e780"
      },
      "outputs": [
        {
          "name": "stdout",
          "output_type": "stream",
          "text": [
            "Im writing some text to this file.\n",
            "This will append to the previous file.\n"
          ]
        }
      ],
      "source": [
        "#file handles\n",
        "\n",
        "fp = open(filename,'wt')\n",
        "fp.write('Im writing some text to this file.')\n",
        "fp.close()\n",
        "\n",
        "\n",
        "#python preferred way:\n",
        "with open(filename,'at') as fp:\n",
        "  fp.write(\"\\n\") #write a newline since we didn't previously\n",
        "  fp.write(\"This will append to the previous file.\")\n",
        "\n",
        "#note there is no explicit close here, since it is assumed\n",
        "\n",
        "\n",
        "with open(filename,'r') as fp:\n",
        "  filecontents = fp.read()\n",
        "\n",
        "print(filecontents)\n",
        "\n"
      ]
    }
  ],
  "metadata": {
    "colab": {
      "provenance": []
    },
    "kernelspec": {
      "display_name": "mrianimal",
      "language": "python",
      "name": "python3"
    },
    "language_info": {
      "codemirror_mode": {
        "name": "ipython",
        "version": 3
      },
      "file_extension": ".py",
      "mimetype": "text/x-python",
      "name": "python",
      "nbconvert_exporter": "python",
      "pygments_lexer": "ipython3",
      "version": "3.12.3"
    }
  },
  "nbformat": 4,
  "nbformat_minor": 0
}
